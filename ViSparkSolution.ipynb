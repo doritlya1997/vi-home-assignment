{
  "cells": [
    {
      "cell_type": "code",
      "execution_count": null,
      "metadata": {
        "colab": {
          "base_uri": "https://localhost:8080/"
        },
        "id": "IFRZY0SKSJGM",
        "outputId": "d0134131-de9f-4c64-8e6a-0a2ef39d9264"
      },
      "outputs": [],
      "source": [
        "!pip install -U pyspark==3.2.2"
      ]
    },
    {
      "cell_type": "code",
      "execution_count": 2,
      "metadata": {
        "id": "J3Um4lMeTW1y"
      },
      "outputs": [],
      "source": [
        "from pyspark.sql import SparkSession\n",
        "from delta import configure_spark_with_delta_pip\n",
        "from tempfile import TemporaryDirectory\n",
        "\n",
        "tmpdir = TemporaryDirectory()\n",
        "builder = (\n",
        "            SparkSession.builder.master(\"local[*]\")\n",
        "            .config(\"spark.sql.extensions\", \"io.delta.sql.DeltaSparkSessionExtension\")\n",
        "            .config(\"spark.sql.catalog.spark_catalog\", \"org.apache.spark.sql.delta.catalog.DeltaCatalog\")\n",
        "            .config(\"spark.sql.warehouse.dir\", f\"file:///{tmpdir.name}\")\n",
        "        )\n",
        "\n",
        "spark = configure_spark_with_delta_pip(builder).getOrCreate()"
      ]
    },
    {
      "cell_type": "code",
      "execution_count": 3,
      "metadata": {
        "id": "YOVyRqRATadN"
      },
      "outputs": [],
      "source": [
        "from pyspark.sql import SparkSession\n",
        "from pyspark.sql import types\n",
        "from pyspark.sql.types import *\n",
        "from pyspark.sql.functions import *\n",
        "from pyspark.sql import Window\n",
        "from pyspark.sql import functions as F"
      ]
    },
    {
      "cell_type": "code",
      "execution_count": null,
      "metadata": {
        "colab": {
          "base_uri": "https://localhost:8080/",
          "height": 347
        },
        "id": "d9nilrvLTgvd",
        "outputId": "d96cf666-ae5b-4eb6-a899-c07ffc2a76bf"
      },
      "outputs": [],
      "source": [
        "schema = StructType([\n",
        "    StructField(\"date\", StringType(), True),\n",
        "    StructField(\"open\", FloatType(), True),\n",
        "    StructField(\"high\", FloatType(), True),\n",
        "    StructField(\"low\", FloatType(), True),\n",
        "    StructField(\"close\", FloatType(), True),\n",
        "    StructField(\"volume\", IntegerType(), True),\n",
        "    StructField(\"ticker\", StringType(), True)\n",
        "])\n",
        "\n",
        "stocksDF = spark.read.csv('stock_prices.csv', header=True, schema=schema)\n",
        "stocksDF.show()"
      ]
    },
    {
      "cell_type": "code",
      "execution_count": null,
      "metadata": {
        "colab": {
          "base_uri": "https://localhost:8080/"
        },
        "id": "L_r7GqCb8Aae",
        "outputId": "25ce427f-9c74-47d1-9a34-f960fe028cee"
      },
      "outputs": [],
      "source": [
        "stocksDF = stocksDF.withColumn(\"date\", F.to_date(F.col(\"date\"),\"M/d/yyyy\"))\n",
        "stocksDF.show()"
      ]
    },
    {
      "cell_type": "markdown",
      "metadata": {
        "id": "4zleTIzC_HT_"
      },
      "source": [
        "### Question 1: Compute the average daily return of all stocks for every date."
      ]
    },
    {
      "cell_type": "code",
      "execution_count": null,
      "metadata": {
        "colab": {
          "base_uri": "https://localhost:8080/"
        },
        "id": "ZWAOkZfu96Xn",
        "outputId": "31322c0f-2dfa-47a9-86e4-cf01e57e55a8"
      },
      "outputs": [],
      "source": [
        "# stock market return is the growth rate of annual average stock market index.\n",
        "\n",
        "window1 = Window.partitionBy(\"ticker\").orderBy(F.asc(\"date\"))\n",
        "\n",
        "result1 = (stocksDF\n",
        " .withColumn(\"lastClose\", F.lag(\"close\").over(window1))\n",
        " .withColumn(\"daily_return\", (F.col(\"close\") - F.col(\"lastClose\"))/F.col(\"lastClose\"))\n",
        " .groupBy(\"date\").agg(F.mean(F.col(\"daily_return\")).alias(\"average_daily_return\"))\n",
        " .orderBy(\"date\")\n",
        ")\n",
        "result1.show()"
      ]
    },
    {
      "cell_type": "code",
      "execution_count": null,
      "metadata": {
        "colab": {
          "base_uri": "https://localhost:8080/",
          "height": 287
        },
        "id": "JjEzlJLE_O9M",
        "outputId": "995dc57d-5473-4b91-f759-838a0cb6d783"
      },
      "outputs": [],
      "source": [
        "result1.write.parquet(\"result1_output\")"
      ]
    },
    {
      "cell_type": "markdown",
      "metadata": {
        "id": "mTGo_KpzDq-R"
      },
      "source": [
        "### Question 2: Which stock was traded most frequently - as measured by closing price * volume - on average?"
      ]
    },
    {
      "cell_type": "code",
      "execution_count": null,
      "metadata": {
        "id": "W3E5yKLxER-T"
      },
      "outputs": [],
      "source": [
        "result2 = (stocksDF\n",
        " .withColumn(\"shares_traded\", F.col(\"close\") * F.col(\"volume\"))\n",
        " .groupBy(\"ticker\").agg(F.mean(F.col(\"shares_traded\")).alias(\"average_shares_traded\"))\n",
        " .orderBy(F.desc(\"average_shares_traded\"))\n",
        " .limit(1)\n",
        " )\n",
        "result2.show()"
      ]
    },
    {
      "cell_type": "code",
      "execution_count": null,
      "metadata": {
        "id": "-LzXjCsXY_Vo"
      },
      "outputs": [],
      "source": [
        "result2.write.parquet(\"result2_output\")"
      ]
    },
    {
      "cell_type": "markdown",
      "metadata": {
        "id": "gyomDOWXH7Rt"
      },
      "source": [
        "### Question 3: Which stock was the most volatile as measured by the annualized standard deviation of daily returns?"
      ]
    },
    {
      "cell_type": "code",
      "execution_count": null,
      "metadata": {
        "id": "HIIFl-0NT1_3"
      },
      "outputs": [],
      "source": [
        "from math import sqrt as math_sqrt"
      ]
    },
    {
      "cell_type": "code",
      "execution_count": null,
      "metadata": {
        "id": "dTDcafceFZ3x"
      },
      "outputs": [],
      "source": [
        "# to calc annual standard deviation, we multiply the daily standard deviation by the square root of 250 (assuming 250 trading days in a year).\n",
        "\n",
        "window1 = Window.partitionBy(\"ticker\").orderBy(F.asc(\"date\"))\n",
        "\n",
        "result3 = (stocksDF\n",
        " .withColumn(\"lastClose\", F.lag(\"close\", 30).over(window1))\n",
        " .withColumn(\"daily_return\", (F.col(\"close\") - F.col(\"lastClose\"))/F.col(\"lastClose\"))\n",
        " .groupBy(\"ticker\").agg((F.stddev(F.col(\"daily_return\")) *  F.lit(math_sqrt(250))).alias(\"annual_standard_deviation\"))\n",
        " .orderBy(F.desc(\"annual_standard_deviation\"))\n",
        " .limit(1)\n",
        ")\n",
        "result3.show()"
      ]
    },
    {
      "cell_type": "code",
      "execution_count": null,
      "metadata": {
        "id": "Gh-3rgpETnjJ"
      },
      "outputs": [],
      "source": [
        "result3.write.parquet(\"result3_output\")"
      ]
    },
    {
      "cell_type": "markdown",
      "metadata": {
        "id": "mXHGFWSeZmVG"
      },
      "source": [
        "### Question 4: What were the top three 30-day return dates (% increase in closing price as compared to the closing price 30 days prior) — present ticker and date combinations"
      ]
    },
    {
      "cell_type": "code",
      "execution_count": null,
      "metadata": {
        "id": "7peZD9_nZzkD"
      },
      "outputs": [],
      "source": [
        "window1 = Window.partitionBy(\"ticker\").orderBy(F.asc(\"date\"))\n",
        "\n",
        "result4 = (stocksDF\n",
        " .withColumn(\"lastClose\", F.lag(\"close\").over(window1))\n",
        " .withColumn(\"30_day_return\", (F.col(\"close\") - F.col(\"lastClose\"))/F.col(\"lastClose\"))\n",
        " .select(\"ticker\", \"30_day_return\")\n",
        " .orderBy(F.desc(\"30_day_return\"))\n",
        " .limit(3)\n",
        ")\n",
        "result4.show()"
      ]
    },
    {
      "cell_type": "code",
      "execution_count": null,
      "metadata": {
        "id": "PoVZIx9dfVsQ"
      },
      "outputs": [],
      "source": [
        "result4.write.parquet(\"result4_output\")"
      ]
    }
  ],
  "metadata": {
    "colab": {
      "provenance": []
    },
    "kernelspec": {
      "display_name": "Python 3",
      "name": "python3"
    },
    "language_info": {
      "name": "python"
    }
  },
  "nbformat": 4,
  "nbformat_minor": 0
}
